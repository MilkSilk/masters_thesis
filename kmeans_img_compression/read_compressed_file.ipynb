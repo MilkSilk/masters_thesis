{
 "cells": [
  {
   "cell_type": "code",
   "execution_count": 53,
   "metadata": {},
   "outputs": [],
   "source": [
    "from PIL import Image\n",
    "from dahuffman import HuffmanCodec\n",
    "import ast"
   ]
  },
  {
   "cell_type": "code",
   "execution_count": 38,
   "metadata": {},
   "outputs": [],
   "source": [
    "num_colors = 2"
   ]
  },
  {
   "cell_type": "code",
   "execution_count": 40,
   "metadata": {},
   "outputs": [
    {
     "name": "stdout",
     "output_type": "stream",
     "text": [
      "Bits Code      Value Symbol\n",
      "   4 0000          0 ']'\n",
      "   7 0001000       8 '8'\n",
      "   7 0001001       9 '4'\n",
      "   9 000101000    40 _EOF\n",
      "   9 000101001    41 '2'\n",
      "   8 00010101     21 '3'\n",
      "   9 000101100    44 '5'\n",
      "   9 000101101    45 '9'\n",
      "   8 00010111     23 '6'\n",
      "   5 00011         3 '['\n",
      "   3 001           1 '1'\n",
      "   2 01            1 '0'\n",
      "   2 10            2 ' '\n",
      "   2 11            3 ','\n"
     ]
    }
   ],
   "source": [
    "codec = HuffmanCodec.load(f\"images/{num_colors}_huffman_doggo_raw.pickle\")\n",
    "codec.print_code_table()"
   ]
  },
  {
   "cell_type": "code",
   "execution_count": 46,
   "metadata": {},
   "outputs": [],
   "source": [
    "with open(f\"images/{num_colors}_huffman_doggo_raw.txt\", mode=\"rb\") as doggo_im_raw:\n",
    "        im_data = doggo_im_raw.read()"
   ]
  },
  {
   "cell_type": "code",
   "execution_count": 55,
   "metadata": {},
   "outputs": [
    {
     "data": {
      "text/plain": [
       "list"
      ]
     },
     "execution_count": 55,
     "metadata": {},
     "output_type": "execute_result"
    }
   ],
   "source": [
    "raw_im_data = codec.decode(im_data)"
   ]
  },
  {
   "cell_type": "code",
   "execution_count": 63,
   "metadata": {},
   "outputs": [
    {
     "name": "stdout",
     "output_type": "stream",
     "text": [
      "[[[164, 186, 129], [54, 48, 33]], [0, 0, 0, 0, 0, 0, 0, 0, 0, 0, 0, 0, 0, 0, 0, 0, 0, 0, 0, 0, 0, 0,\n"
     ]
    }
   ],
   "source": [
    "print(raw_im_data[:100])\n",
    "im_data = ast.literal_eval(raw_im_data)\n",
    "centroids = im_data[0]\n",
    "pixels = im_data[1:]"
   ]
  },
  {
   "cell_type": "code",
   "execution_count": 78,
   "metadata": {},
   "outputs": [
    {
     "data": {
      "text/plain": [
       "(400, 286)"
      ]
     },
     "execution_count": 78,
     "metadata": {},
     "output_type": "execute_result"
    }
   ],
   "source": [
    "im_width = len(pixels)\n",
    "im_height = len(pixels[0])\n",
    "im_width, im_height"
   ]
  },
  {
   "cell_type": "code",
   "execution_count": 80,
   "metadata": {},
   "outputs": [
    {
     "data": {
      "image/png": "[encoded data removed]",
      "text/plain": [
       "<PIL.Image.Image image mode=RGB size=400x286 at 0x24047983EE0>"
      ]
     },
     "execution_count": 80,
     "metadata": {},
     "output_type": "execute_result"
    }
   ],
   "source": [
    "new_image = Image.new(\"RGB\", (im_width, im_height), color=0)\n",
    "for col in range(new_image.width):\n",
    "    for row in range(new_image.height):\n",
    "        new_pixel = centroids[pixels[col][row]]\n",
    "        # new_pixel = centroids[col*new_image.height+row]\n",
    "        new_image.putpixel((col, row), tuple(new_pixel))\n",
    "new_image"
   ]
  },
  {
   "cell_type": "code",
   "execution_count": null,
   "metadata": {},
   "outputs": [],
   "source": []
  }
 ],
 "metadata": {
  "language_info": {
   "name": "python"
  },
  "orig_nbformat": 4
 },
 "nbformat": 4,
 "nbformat_minor": 2
}
