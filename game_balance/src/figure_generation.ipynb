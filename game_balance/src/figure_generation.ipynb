{
 "cells": [
  {
   "cell_type": "code",
   "execution_count": 4,
   "metadata": {},
   "outputs": [],
   "source": [
    "import matplotlib.pyplot as plt"
   ]
  },
  {
   "cell_type": "code",
   "execution_count": 43,
   "metadata": {},
   "outputs": [],
   "source": [
    "wpn_range = 95\n",
    "dmg = 110"
   ]
  },
  {
   "cell_type": "code",
   "execution_count": 44,
   "metadata": {},
   "outputs": [
    {
     "data": {
      "text/plain": [
       "<matplotlib.collections.PathCollection at 0x1bc64ca74c0>"
      ]
     },
     "execution_count": 44,
     "metadata": {},
     "output_type": "execute_result"
    },
    {
     "data": {
      "image/png": "[encoded data removed]",
      "text/plain": [
       "<Figure size 432x288 with 1 Axes>"
      ]
     },
     "metadata": {
      "needs_background": "light"
     },
     "output_type": "display_data"
    }
   ],
   "source": [
    "def new_calc_damage(distance):\n",
    "    if distance <= wpn_range:\n",
    "        return dmg\n",
    "    else:\n",
    "        return max(-(1 / wpn_range) * (distance - wpn_range) ** 2 + dmg, 0)\n",
    "\n",
    "# def new_calc_damage(distance):\n",
    "#     if distance <= self.effective_range:\n",
    "#         return self.damage\n",
    "#     else:\n",
    "#         return max(-(1 / self.effective_range) * (distance - self.effective_range) ** 2 + self.damage, 0)\n",
    "dmgs = []\n",
    "for i in range(400):\n",
    "    dmgs.append(new_calc_damage(i))\n",
    "\n",
    "plt.scatter(range(400), dmgs)"
   ]
  },
  {
   "cell_type": "code",
   "execution_count": 45,
   "metadata": {},
   "outputs": [
    {
     "data": {
      "text/plain": [
       "<matplotlib.collections.PathCollection at 0x1bc64d0e7c0>"
      ]
     },
     "execution_count": 45,
     "metadata": {},
     "output_type": "execute_result"
    },
    {
     "data": {
      "image/png": "[encoded data removed]",
      "text/plain": [
       "<Figure size 432x288 with 1 Axes>"
      ]
     },
     "metadata": {
      "needs_background": "light"
     },
     "output_type": "display_data"
    }
   ],
   "source": [
    "def old_calc_damage(distance):\n",
    "    if distance <= wpn_range:\n",
    "        return dmg\n",
    "    else:\n",
    "        return max(-(1 / dmg) * (distance - dmg) ** 2 + dmg, 0)\n",
    "\n",
    "# def old_calc_damage(distance):\n",
    "#     if distance <= self.effective_range:\n",
    "#         return self.damage\n",
    "#     else:\n",
    "#         return max(-(1 / self.damage) * (distance - self.damage) ** 2 + self.damage, 0)\n",
    "old_dmgs = []\n",
    "for i in range(400):\n",
    "    old_dmgs.append(old_calc_damage(i))\n",
    "plt.scatter(range(400), old_dmgs)"
   ]
  },
  {
   "cell_type": "code",
   "execution_count": 68,
   "metadata": {},
   "outputs": [
    {
     "data": {
      "text/plain": [
       "<matplotlib.collections.PathCollection at 0x1bc66539940>"
      ]
     },
     "execution_count": 68,
     "metadata": {},
     "output_type": "execute_result"
    },
    {
     "data": {
      "image/png": "[encoded data removed]",
      "text/plain": [
       "<Figure size 432x288 with 1 Axes>"
      ]
     },
     "metadata": {
      "needs_background": "light"
     },
     "output_type": "display_data"
    }
   ],
   "source": [
    "wpn_range = 15\n",
    "dmg = 175\n",
    "plot_range = wpn_range*2 + 50\n",
    "\n",
    "def newest_calc_damage(distance):\n",
    "    if distance <= wpn_range:\n",
    "        return dmg\n",
    "    else:\n",
    "        return max(((-dmg/(wpn_range**2))*(distance**2) +\n",
    "                 2*dmg/wpn_range*distance), 0)\n",
    "\n",
    "newest_dmgs = []\n",
    "for i in range(plot_range):\n",
    "    newest_dmgs.append(newest_calc_damage(i))\n",
    "plt.scatter(range(plot_range), newest_dmgs)"
   ]
  },
  {
   "cell_type": "code",
   "execution_count": null,
   "metadata": {},
   "outputs": [],
   "source": []
  }
 ],
 "metadata": {
  "interpreter": {
   "hash": "eeb3e93151fb7bb1cb2128983998d6917cde649f608db4d143bc2349e3fc9332"
  },
  "kernelspec": {
   "display_name": "Python 3.9.0 ('venv': venv)",
   "language": "python",
   "name": "python3"
  },
  "language_info": {
   "codemirror_mode": {
    "name": "ipython",
    "version": 3
   },
   "file_extension": ".py",
   "mimetype": "text/x-python",
   "name": "python",
   "nbconvert_exporter": "python",
   "pygments_lexer": "ipython3",
   "version": "3.9.0"
  },
  "orig_nbformat": 4
 },
 "nbformat": 4,
 "nbformat_minor": 2
}
